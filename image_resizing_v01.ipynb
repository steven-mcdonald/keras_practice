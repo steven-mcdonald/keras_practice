{
 "cells": [
  {
   "cell_type": "code",
   "execution_count": 1,
   "metadata": {
    "ExecuteTime": {
     "end_time": "2020-07-06T18:54:23.038508Z",
     "start_time": "2020-07-06T18:54:22.933616Z"
    }
   },
   "outputs": [],
   "source": [
    "from PIL import Image\n",
    "import os, sys"
   ]
  },
  {
   "cell_type": "code",
   "execution_count": 15,
   "metadata": {
    "ExecuteTime": {
     "end_time": "2020-07-06T19:13:36.414235Z",
     "start_time": "2020-07-06T19:13:36.324402Z"
    }
   },
   "outputs": [],
   "source": [
    "in_path = \"/Users/Steven/Documents/projects/data/photos_01/\"\n",
    "out_path = \"/Users/Steven/Documents/projects/data/photos_resized/\"\n",
    "dirs = os.listdir( in_path )\n",
    "\n",
    "def resize():\n",
    "    for item in dirs:\n",
    "        if os.path.isfile(in_path+item):\n",
    "            im = Image.open(in_path+item)\n",
    "            f, e = os.path.splitext(in_path+item)\n",
    "            imResize = im.resize((200,200), Image.ANTIALIAS)\n",
    "            imResize.save(out_path + item + '_resized.jpg', 'JPEG', quality=90)\n",
    "\n",
    "resize()"
   ]
  },
  {
   "cell_type": "code",
   "execution_count": 18,
   "metadata": {
    "ExecuteTime": {
     "end_time": "2020-07-06T19:20:22.966309Z",
     "start_time": "2020-07-06T19:20:22.858932Z"
    }
   },
   "outputs": [],
   "source": [
    "in_path = \"/Users/Steven/Documents/projects/data/photos_resized/\"\n",
    "out_path = \"/Users/Steven/Documents/projects/data/photos_grayscaled/\"\n",
    "dirs = os.listdir( in_path )\n",
    "\n",
    "def grayscaling():\n",
    "    for item in dirs:\n",
    "        if os.path.isfile(in_path+item):\n",
    "            img = Image.open(in_path+item).convert('LA')\n",
    "            fname = item.split()[0]\n",
    "            img.save(out_path + fname + '_gs.png')\n",
    "\n",
    "grayscaling()"
   ]
  },
  {
   "cell_type": "code",
   "execution_count": null,
   "metadata": {},
   "outputs": [],
   "source": []
  }
 ],
 "metadata": {
  "kernelspec": {
   "display_name": "Python 3",
   "language": "python",
   "name": "python3"
  },
  "language_info": {
   "codemirror_mode": {
    "name": "ipython",
    "version": 3
   },
   "file_extension": ".py",
   "mimetype": "text/x-python",
   "name": "python",
   "nbconvert_exporter": "python",
   "pygments_lexer": "ipython3",
   "version": "3.7.4"
  }
 },
 "nbformat": 4,
 "nbformat_minor": 2
}
